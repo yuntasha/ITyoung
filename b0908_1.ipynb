{
 "cells": [
  {
   "cell_type": "code",
   "execution_count": 2,
   "metadata": {},
   "outputs": [
    {
     "name": "stdout",
     "output_type": "stream",
     "text": [
      "Hello Python!\n",
      "Nice to meet you.\n",
      "Hello \"Python\"\n",
      "Hello 'Python'\n",
      "Hello Python!\n",
      "HelloPython!\n"
     ]
    }
   ],
   "source": [
    "print('Hello Python!')\n",
    "print(\"Nice to meet you.\")\n",
    "print('Hello \"Python\"')\n",
    "print(\"Hello 'Python'\")\n",
    "print('Hello', 'Python!')\n",
    "print('Hello' + 'Python!')\n"
   ]
  },
  {
   "cell_type": "markdown",
   "metadata": {},
   "source": [
    "- print함수로 출력할 문장(문자열)은 ‘ ’ 또는 “ ” 로 감싸야 한다.\n",
    "- 문자열 속에 ' 기호가 있는 경우에는 “ ”로 “ 기호가 있는 경우에는 ‘ ’를 사용하면 편리하게 출력할 수 있다.\n",
    "- 콤마(,)로 문자열을 나열할 경우 공백(기본값)이 자동으로 추가 된다.\n",
    "- 더하기(+) 기호로 문자열을 공백없이 연결할 수 있다."
   ]
  },
  {
   "cell_type": "code",
   "execution_count": 3,
   "metadata": {},
   "outputs": [
    {
     "name": "stdout",
     "output_type": "stream",
     "text": [
      "I like Python. But I do not like Ruby.\n",
      "I like Python.\n",
      "But I don't like C.\n",
      "I like Python.\n",
      "But I don't like C.\n"
     ]
    }
   ],
   "source": [
    "print('I like Python. \\\n",
    "But I do not like Ruby.')\n",
    "print(\"\"\"I like Python.\n",
    "But I don't like C.\"\"\")\n",
    "print('''I like Python.\n",
    "But I don't like C.''')"
   ]
  },
  {
   "cell_type": "markdown",
   "metadata": {},
   "source": [
    "- 긴 문자열은 \\ 기호로 사용하여 여러 줄에 작성할 수 있다.\n",
    "- 개행(줄바꿈), 공백, 특수기호(이스케이프 문자)를 포함하여 입력한 그대로 화면에 출력하기 위 해서는 ‘’‘ ’‘’ 또는 “”“ ”“” 기호를 사용하면 된다.\n",
    "* ‘’‘ ’‘’, “”“ ”“” 은 멀티라인 코멘트로도 사용한다."
   ]
  },
  {
   "cell_type": "code",
   "execution_count": 12,
   "metadata": {},
   "outputs": [
    {
     "name": "stdout",
     "output_type": "stream",
     "text": [
      "Hello Python\n",
      "Hello&&&Python\n",
      "Hello#Python\n"
     ]
    },
    {
     "name": "stderr",
     "output_type": "stream",
     "text": [
      "Hello Python\n"
     ]
    }
   ],
   "source": [
    "print('Hello', end=' ')\n",
    "print('Python')\n",
    "print('Hello', end='&&&')\n",
    "print('Python')\n",
    "print('Hello', 'Python', sep='#')\n",
    "\n",
    "f = open('dump.txt', 'w')\n",
    "print('Hello Python', file=f)\n",
    "f.close()\n",
    "\n",
    "import sys\n",
    "print('Hello Python', file=sys.stderr)"
   ]
  },
  {
   "cell_type": "markdown",
   "metadata": {},
   "source": [
    "- end 인자를 사용하면 print함수 마지막 효과를 변경할 수 있다. (기본값은 개행)\n",
    "- sep 인자를 사용하면 콤마로 구분된 문자열을 다르게 결합할 수 있다. (기본값은 공백) file 인자를 사용하면 출력 결과를 파일, 표준에러처리로 보낼 수 있다.\n"
   ]
  },
  {
   "cell_type": "code",
   "execution_count": 13,
   "metadata": {},
   "outputs": [
    {
     "name": "stdout",
     "output_type": "stream",
     "text": [
      "My mother's house\n",
      "', \", \\, \u0007, \t, \n",
      "\n"
     ]
    }
   ],
   "source": [
    "print('My mother\\'s house')\n",
    "print('\\', \\\", \\\\, \\a, \\t, \\n')"
   ]
  },
  {
   "cell_type": "markdown",
   "metadata": {},
   "source": [
    "- 이스케이프 문자(Escape character)는 \\문자를 사용하여 출력한다. (\\n 공백, \\t 탭키, \\\\ \\, \\‘, \\“ 등)"
   ]
  },
  {
   "cell_type": "code",
   "execution_count": 16,
   "metadata": {},
   "outputs": [
    {
     "name": "stdout",
     "output_type": "stream",
     "text": [
      "i: 123, f: 3.140000, s: Hello\n",
      "i:       123, f:  3.14, s:   Hello\n",
      "i: 000000123, f: 03.14, s:   Hello\n",
      "i: 123, f: 3.14, s: Hello\n",
      "f: 3.14, i: 123, s: Hello\n",
      "f:3.14, i: 123, s: Hello\n",
      "a is apple, b is banana\n",
      "a is apple, b is banana\n"
     ]
    }
   ],
   "source": [
    "i = 123\n",
    "f = 3.14\n",
    "s = 'Hello'\n",
    "\n",
    "print('i: %d, f: %f, s: %s' % (i, f, s))\n",
    "print('i: %9d, f: %5.2f, s: %7s' % (i, f, s))\n",
    "print('i: %09d, f: %05.2f, s: %7s' % (i, f, s))\n",
    "print('i: {}, f: {}, s: {}'.format(i, f, s))\n",
    "print('f: {1}, i: {0}, s: {2}'.format(i, f, s))\n",
    "print('f:{ff}, i: {ii}, s: {ss}'.format(ii=i, ff=f, ss=s))\n",
    "\n",
    "a = 'apple'\n",
    "b = 'banana'\n",
    "print('a is {0[a]}, b is {0[b]}'.format(locals())) # 딕셔너리 형태로 해줌\n",
    "print('a is {a}, b is {b}'.format(**locals()))\n"
   ]
  },
  {
   "cell_type": "markdown",
   "metadata": {},
   "source": [
    "- % 기호를 활용하여 변수값을 출력할 수 있다. (오래된 방식)\n",
    "(%d 정수, %f 실수, %s 문자열)\n",
    "- %5.2f처럼 출력하는 모양을 지정할 수 있다. (총 자릿수 5, 소수점 2자리까지)\n",
    "- format 함수를 사용하면 좀 더 다양항 방식으로 출력을 할 수 있다."
   ]
  },
  {
   "cell_type": "code",
   "execution_count": 17,
   "metadata": {},
   "outputs": [
    {
     "name": "stdout",
     "output_type": "stream",
     "text": [
      "   Hello Python!    \n",
      "       Hello Python!\n",
      "Hello Python!       \n",
      "0000000Hello Python!\n",
      "Hello python!\n",
      "HELLO PYTHON!\n"
     ]
    }
   ],
   "source": [
    "print('Hello Python!'.center(20))\n",
    "print('Hello Python!'.rjust(20))\n",
    "print('Hello Python!'.ljust(20))\n",
    "print('Hello Python!'.zfill(20))\n",
    "print('hello python!'.capitalize())\n",
    "print('hello python!'.upper())"
   ]
  },
  {
   "cell_type": "markdown",
   "metadata": {},
   "source": [
    "- 문자열 객체의 다양한 메소드(함수)를 활용하여 출력 모양을 변경할 수 있다. (메소드 이름만으로도 동작을 짐작할 수 있기에 자세한 설명은 생략)"
   ]
  },
  {
   "cell_type": "code",
   "execution_count": null,
   "metadata": {},
   "outputs": [],
   "source": [
    "print(123); print(3.14)\n",
    "print(True)\n",
    "print(\"3 * 2 = \", 3 * 2)\n",
    "print(list(range(1, 10)))"
   ]
  },
  {
   "cell_type": "markdown",
   "metadata": {},
   "source": [
    "- 정수, 실수, 불 자료형을 문자열로 변경할 필요없이 바로 출력할 수 있다. (명시적으로 변경하기 위해서는 str()함수를 사용하면 됨)\n",
    "- 수식과 리스트 같은 복잡한 내용도 쉽게 출력할 수 있다."
   ]
  },
  {
   "cell_type": "code",
   "execution_count": 20,
   "metadata": {},
   "outputs": [
    {
     "name": "stdout",
     "output_type": "stream",
     "text": [
      "i : 123,f : 3.14, str : Hello\n",
      "i : Hello       , f :      Hello, str :   Hello   \n",
      "i :    3.1, f : 3.14\n",
      "hello\\tworld\\nI'm Kim\n"
     ]
    }
   ],
   "source": [
    "a = 123\n",
    "b = 3.14\n",
    "c = 'Hello'\n",
    "\n",
    "print(f'i : {a},f : {b}, str : {c}')\n",
    "print(f'i : {c:<12s}, f : {c:>10s}, str : {c:^10s}')\n",
    "print(f'i : {b:6.1f}, f : {b:^.2f}')\n",
    "print(r\"hello\\tworld\\nI'm Kim\")"
   ]
  },
  {
   "cell_type": "markdown",
   "metadata": {},
   "source": [
    "- 파이썬 3.6부터 제공되는 f-string을 이용하여 정수, 실수, 문자열을 출력한다. 자리수와 정렬까지 편하게 할 수 있다.\n",
    "- string literal을 raw string 즉 그대로 사용하려면 만들려면 r-string을 사용한다."
   ]
  }
 ],
 "metadata": {
  "kernelspec": {
   "display_name": "shinj",
   "language": "python",
   "name": "python3"
  },
  "language_info": {
   "codemirror_mode": {
    "name": "ipython",
    "version": 3
   },
   "file_extension": ".py",
   "mimetype": "text/x-python",
   "name": "python",
   "nbconvert_exporter": "python",
   "pygments_lexer": "ipython3",
   "version": "3.10.10"
  },
  "orig_nbformat": 4
 },
 "nbformat": 4,
 "nbformat_minor": 2
}
